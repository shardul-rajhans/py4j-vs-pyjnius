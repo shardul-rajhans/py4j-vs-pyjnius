{
 "cells": [
  {
   "cell_type": "markdown",
   "id": "259891ca",
   "metadata": {},
   "source": [
    "# Application of Machine Learning using Spectrum Geo-Addressing SDK of Java"
   ]
  },
  {
   "cell_type": "code",
   "execution_count": 1,
   "id": "c1331408",
   "metadata": {},
   "outputs": [],
   "source": [
    "# Pyjius Libraries\n",
    "from pathlib import Path\n",
    "import jnius_config\n",
    "\n",
    "import os\n",
    "import numpy as np\n",
    "import pandas as pd\n",
    "import swifter\n",
    "import json, csv\n",
    "import matplotlib.pyplot as plt\n",
    "import seaborn as sns; sns.set()\n",
    "import time\n",
    "\n",
    "from sklearn.cluster import KMeans\n",
    "\n",
    "import warnings\n",
    "warnings.filterwarnings(\"ignore\")\n",
    "pd.set_option('display.max_rows', 999)"
   ]
  },
  {
   "cell_type": "markdown",
   "id": "fbf78f30",
   "metadata": {},
   "source": [
    "# Usage of using Addressing APIs using Pyjnius"
   ]
  },
  {
   "cell_type": "code",
   "execution_count": 2,
   "id": "f2c1fe05",
   "metadata": {},
   "outputs": [
    {
     "name": "stdout",
     "output_type": "stream",
     "text": [
      "D:\\PRECISELY\\DEMO\\Py4JPoC\\JupyterNotebook\\Py4JPoC-1.0.jar\n"
     ]
    }
   ],
   "source": [
    "jar_path = os.path.join(Path().resolve(), \"Py4JPoC-1.0.jar\")\n",
    "print(jar_path)\n",
    "jnius_config.set_classpath(\".\", jar_path)"
   ]
  },
  {
   "cell_type": "code",
   "execution_count": 3,
   "id": "692e225e",
   "metadata": {},
   "outputs": [
    {
     "name": "stdout",
     "output_type": "stream",
     "text": [
      "Geocoded Co-ordinates:  51.52375,-0.15856\n",
      "Verify Address:  SHERLOCK HOLMES MUSEUM, 221b BAKER STREET, LONDON, NW1 6XE, United Kingdom\n"
     ]
    }
   ],
   "source": [
    "from jnius import autoclass\n",
    "addressingWrapper = autoclass(\"com.precisely.py4j.wrapper.AddressingWrapper\")\n",
    "addressing = addressingWrapper()\n",
    "value = addressing.geocode('221B Baker Street London', 'GBR')\n",
    "print(\"Geocoded Co-ordinates: \", value)\n",
    "value = addressing.verify('221B Baker Street London', 'GBR')\n",
    "print(\"Verify Address: \", value)"
   ]
  },
  {
   "cell_type": "markdown",
   "id": "3da42096",
   "metadata": {},
   "source": [
    "# Read Dataset of 100K Addresses for US"
   ]
  },
  {
   "cell_type": "code",
   "execution_count": 4,
   "id": "3206c848",
   "metadata": {},
   "outputs": [
    {
     "data": {
      "text/html": [
       "<div>\n",
       "<style scoped>\n",
       "    .dataframe tbody tr th:only-of-type {\n",
       "        vertical-align: middle;\n",
       "    }\n",
       "\n",
       "    .dataframe tbody tr th {\n",
       "        vertical-align: top;\n",
       "    }\n",
       "\n",
       "    .dataframe thead th {\n",
       "        text-align: right;\n",
       "    }\n",
       "</style>\n",
       "<table border=\"1\" class=\"dataframe\">\n",
       "  <thead>\n",
       "    <tr style=\"text-align: right;\">\n",
       "      <th></th>\n",
       "      <th>ID</th>\n",
       "      <th>ADDRESSLINE1</th>\n",
       "      <th>CITY</th>\n",
       "      <th>STATE</th>\n",
       "      <th>ZIP</th>\n",
       "      <th>ADDRESS</th>\n",
       "      <th>COUNTRY</th>\n",
       "    </tr>\n",
       "  </thead>\n",
       "  <tbody>\n",
       "    <tr>\n",
       "      <th>0</th>\n",
       "      <td>21681919</td>\n",
       "      <td>127 MOYER RD</td>\n",
       "      <td>BLAKESLEE</td>\n",
       "      <td>PA</td>\n",
       "      <td>18610.0</td>\n",
       "      <td>127 MOYER RD,BLAKESLEE,PA,18610</td>\n",
       "      <td>UNITED STATES OF AMERICA</td>\n",
       "    </tr>\n",
       "    <tr>\n",
       "      <th>1</th>\n",
       "      <td>21683872</td>\n",
       "      <td>12107 S HALSTED ST</td>\n",
       "      <td>CHICAGO</td>\n",
       "      <td>IL</td>\n",
       "      <td>60628.0</td>\n",
       "      <td>12107 S HALSTED ST,CHICAGO,IL,60628</td>\n",
       "      <td>UNITED STATES OF AMERICA</td>\n",
       "    </tr>\n",
       "    <tr>\n",
       "      <th>2</th>\n",
       "      <td>21684089</td>\n",
       "      <td>801 W WISE ST</td>\n",
       "      <td>BOWIE</td>\n",
       "      <td>TX</td>\n",
       "      <td>76230.0</td>\n",
       "      <td>801 W WISE ST,BOWIE,TX,76230</td>\n",
       "      <td>UNITED STATES OF AMERICA</td>\n",
       "    </tr>\n",
       "    <tr>\n",
       "      <th>3</th>\n",
       "      <td>21684469</td>\n",
       "      <td>1118 BROOKHOLLOW DR</td>\n",
       "      <td>DEER PARK</td>\n",
       "      <td>TX</td>\n",
       "      <td>77536.0</td>\n",
       "      <td>1118 BROOKHOLLOW DR,DEER PARK,TX,77536</td>\n",
       "      <td>UNITED STATES OF AMERICA</td>\n",
       "    </tr>\n",
       "    <tr>\n",
       "      <th>4</th>\n",
       "      <td>21802959</td>\n",
       "      <td>5949 BUFORD HWY 114</td>\n",
       "      <td>NORCROSS</td>\n",
       "      <td>GA</td>\n",
       "      <td>NaN</td>\n",
       "      <td>5949 BUFORD HWY 114,NORCROSS,GA</td>\n",
       "      <td>UNITED STATES OF AMERICA</td>\n",
       "    </tr>\n",
       "  </tbody>\n",
       "</table>\n",
       "</div>"
      ],
      "text/plain": [
       "         ID         ADDRESSLINE1       CITY STATE      ZIP  \\\n",
       "0  21681919         127 MOYER RD  BLAKESLEE    PA  18610.0   \n",
       "1  21683872   12107 S HALSTED ST    CHICAGO    IL  60628.0   \n",
       "2  21684089        801 W WISE ST      BOWIE    TX  76230.0   \n",
       "3  21684469  1118 BROOKHOLLOW DR  DEER PARK    TX  77536.0   \n",
       "4  21802959  5949 BUFORD HWY 114   NORCROSS    GA      NaN   \n",
       "\n",
       "                                  ADDRESS                   COUNTRY  \n",
       "0         127 MOYER RD,BLAKESLEE,PA,18610  UNITED STATES OF AMERICA  \n",
       "1     12107 S HALSTED ST,CHICAGO,IL,60628  UNITED STATES OF AMERICA  \n",
       "2            801 W WISE ST,BOWIE,TX,76230  UNITED STATES OF AMERICA  \n",
       "3  1118 BROOKHOLLOW DR,DEER PARK,TX,77536  UNITED STATES OF AMERICA  \n",
       "4         5949 BUFORD HWY 114,NORCROSS,GA  UNITED STATES OF AMERICA  "
      ]
     },
     "execution_count": 4,
     "metadata": {},
     "output_type": "execute_result"
    }
   ],
   "source": [
    "us_data = pd.read_csv('US_100K.csv')\n",
    "us_data.head()"
   ]
  },
  {
   "cell_type": "code",
   "execution_count": 5,
   "id": "485789ff",
   "metadata": {},
   "outputs": [
    {
     "name": "stdout",
     "output_type": "stream",
     "text": [
      "<class 'pandas.core.frame.DataFrame'>\n",
      "RangeIndex: 99969 entries, 0 to 99968\n",
      "Data columns (total 7 columns):\n",
      " #   Column        Non-Null Count  Dtype  \n",
      "---  ------        --------------  -----  \n",
      " 0   ID            99969 non-null  int64  \n",
      " 1   ADDRESSLINE1  99969 non-null  object \n",
      " 2   CITY          99968 non-null  object \n",
      " 3   STATE         99969 non-null  object \n",
      " 4   ZIP           97059 non-null  float64\n",
      " 5   ADDRESS       99969 non-null  object \n",
      " 6   COUNTRY       99969 non-null  object \n",
      "dtypes: float64(1), int64(1), object(5)\n",
      "memory usage: 5.3+ MB\n"
     ]
    }
   ],
   "source": [
    "us_data.info()"
   ]
  },
  {
   "cell_type": "code",
   "execution_count": 6,
   "id": "4bbe3938",
   "metadata": {},
   "outputs": [
    {
     "data": {
      "text/html": [
       "<div>\n",
       "<style scoped>\n",
       "    .dataframe tbody tr th:only-of-type {\n",
       "        vertical-align: middle;\n",
       "    }\n",
       "\n",
       "    .dataframe tbody tr th {\n",
       "        vertical-align: top;\n",
       "    }\n",
       "\n",
       "    .dataframe thead th {\n",
       "        text-align: right;\n",
       "    }\n",
       "</style>\n",
       "<table border=\"1\" class=\"dataframe\">\n",
       "  <thead>\n",
       "    <tr style=\"text-align: right;\">\n",
       "      <th></th>\n",
       "      <th>ID</th>\n",
       "      <th>ADDRESSLINE1</th>\n",
       "      <th>CITY</th>\n",
       "      <th>STATE</th>\n",
       "      <th>ZIP</th>\n",
       "      <th>ADDRESS</th>\n",
       "      <th>COUNTRY</th>\n",
       "    </tr>\n",
       "  </thead>\n",
       "  <tbody>\n",
       "    <tr>\n",
       "      <th>0</th>\n",
       "      <td>21681919</td>\n",
       "      <td>127 MOYER RD</td>\n",
       "      <td>BLAKESLEE</td>\n",
       "      <td>PA</td>\n",
       "      <td>18610</td>\n",
       "      <td>127 MOYER RD,BLAKESLEE,PA,18610</td>\n",
       "      <td>UNITED STATES OF AMERICA</td>\n",
       "    </tr>\n",
       "    <tr>\n",
       "      <th>1</th>\n",
       "      <td>21683872</td>\n",
       "      <td>12107 S HALSTED ST</td>\n",
       "      <td>CHICAGO</td>\n",
       "      <td>IL</td>\n",
       "      <td>60628</td>\n",
       "      <td>12107 S HALSTED ST,CHICAGO,IL,60628</td>\n",
       "      <td>UNITED STATES OF AMERICA</td>\n",
       "    </tr>\n",
       "    <tr>\n",
       "      <th>2</th>\n",
       "      <td>21684089</td>\n",
       "      <td>801 W WISE ST</td>\n",
       "      <td>BOWIE</td>\n",
       "      <td>TX</td>\n",
       "      <td>76230</td>\n",
       "      <td>801 W WISE ST,BOWIE,TX,76230</td>\n",
       "      <td>UNITED STATES OF AMERICA</td>\n",
       "    </tr>\n",
       "    <tr>\n",
       "      <th>3</th>\n",
       "      <td>21684469</td>\n",
       "      <td>1118 BROOKHOLLOW DR</td>\n",
       "      <td>DEER PARK</td>\n",
       "      <td>TX</td>\n",
       "      <td>77536</td>\n",
       "      <td>1118 BROOKHOLLOW DR,DEER PARK,TX,77536</td>\n",
       "      <td>UNITED STATES OF AMERICA</td>\n",
       "    </tr>\n",
       "    <tr>\n",
       "      <th>4</th>\n",
       "      <td>21802959</td>\n",
       "      <td>5949 BUFORD HWY 114</td>\n",
       "      <td>NORCROSS</td>\n",
       "      <td>GA</td>\n",
       "      <td>&lt;NA&gt;</td>\n",
       "      <td>5949 BUFORD HWY 114,NORCROSS,GA</td>\n",
       "      <td>UNITED STATES OF AMERICA</td>\n",
       "    </tr>\n",
       "  </tbody>\n",
       "</table>\n",
       "</div>"
      ],
      "text/plain": [
       "         ID         ADDRESSLINE1       CITY STATE    ZIP  \\\n",
       "0  21681919         127 MOYER RD  BLAKESLEE    PA  18610   \n",
       "1  21683872   12107 S HALSTED ST    CHICAGO    IL  60628   \n",
       "2  21684089        801 W WISE ST      BOWIE    TX  76230   \n",
       "3  21684469  1118 BROOKHOLLOW DR  DEER PARK    TX  77536   \n",
       "4  21802959  5949 BUFORD HWY 114   NORCROSS    GA   <NA>   \n",
       "\n",
       "                                  ADDRESS                   COUNTRY  \n",
       "0         127 MOYER RD,BLAKESLEE,PA,18610  UNITED STATES OF AMERICA  \n",
       "1     12107 S HALSTED ST,CHICAGO,IL,60628  UNITED STATES OF AMERICA  \n",
       "2            801 W WISE ST,BOWIE,TX,76230  UNITED STATES OF AMERICA  \n",
       "3  1118 BROOKHOLLOW DR,DEER PARK,TX,77536  UNITED STATES OF AMERICA  \n",
       "4         5949 BUFORD HWY 114,NORCROSS,GA  UNITED STATES OF AMERICA  "
      ]
     },
     "execution_count": 6,
     "metadata": {},
     "output_type": "execute_result"
    }
   ],
   "source": [
    "us_data = us_data.convert_dtypes(infer_objects=True)\n",
    "us_data.head()"
   ]
  },
  {
   "cell_type": "markdown",
   "id": "c00b09f3",
   "metadata": {},
   "source": [
    "# Implement Addressing APIs by calling Java SDK Methods on DataFrames"
   ]
  },
  {
   "cell_type": "code",
   "execution_count": 7,
   "id": "74b89294",
   "metadata": {},
   "outputs": [
    {
     "name": "stdout",
     "output_type": "stream",
     "text": [
      "Time taken to geocode 99969 addresses is 85934 ms\n"
     ]
    },
    {
     "data": {
      "text/html": [
       "<div>\n",
       "<style scoped>\n",
       "    .dataframe tbody tr th:only-of-type {\n",
       "        vertical-align: middle;\n",
       "    }\n",
       "\n",
       "    .dataframe tbody tr th {\n",
       "        vertical-align: top;\n",
       "    }\n",
       "\n",
       "    .dataframe thead th {\n",
       "        text-align: right;\n",
       "    }\n",
       "</style>\n",
       "<table border=\"1\" class=\"dataframe\">\n",
       "  <thead>\n",
       "    <tr style=\"text-align: right;\">\n",
       "      <th></th>\n",
       "      <th>ID</th>\n",
       "      <th>ADDRESSLINE1</th>\n",
       "      <th>CITY</th>\n",
       "      <th>STATE</th>\n",
       "      <th>ZIP</th>\n",
       "      <th>ADDRESS</th>\n",
       "      <th>COUNTRY</th>\n",
       "      <th>GEOCODE</th>\n",
       "    </tr>\n",
       "  </thead>\n",
       "  <tbody>\n",
       "    <tr>\n",
       "      <th>0</th>\n",
       "      <td>21681919</td>\n",
       "      <td>127 MOYER RD</td>\n",
       "      <td>BLAKESLEE</td>\n",
       "      <td>PA</td>\n",
       "      <td>18610</td>\n",
       "      <td>127 MOYER RD,BLAKESLEE,PA,18610</td>\n",
       "      <td>UNITED STATES OF AMERICA</td>\n",
       "      <td>41.021119,-75.490743</td>\n",
       "    </tr>\n",
       "    <tr>\n",
       "      <th>1</th>\n",
       "      <td>21683872</td>\n",
       "      <td>12107 S HALSTED ST</td>\n",
       "      <td>CHICAGO</td>\n",
       "      <td>IL</td>\n",
       "      <td>60628</td>\n",
       "      <td>12107 S HALSTED ST,CHICAGO,IL,60628</td>\n",
       "      <td>UNITED STATES OF AMERICA</td>\n",
       "      <td>41.673852,-87.641479</td>\n",
       "    </tr>\n",
       "    <tr>\n",
       "      <th>2</th>\n",
       "      <td>21684089</td>\n",
       "      <td>801 W WISE ST</td>\n",
       "      <td>BOWIE</td>\n",
       "      <td>TX</td>\n",
       "      <td>76230</td>\n",
       "      <td>801 W WISE ST,BOWIE,TX,76230</td>\n",
       "      <td>UNITED STATES OF AMERICA</td>\n",
       "      <td>33.565004,-97.857744</td>\n",
       "    </tr>\n",
       "    <tr>\n",
       "      <th>3</th>\n",
       "      <td>21684469</td>\n",
       "      <td>1118 BROOKHOLLOW DR</td>\n",
       "      <td>DEER PARK</td>\n",
       "      <td>TX</td>\n",
       "      <td>77536</td>\n",
       "      <td>1118 BROOKHOLLOW DR,DEER PARK,TX,77536</td>\n",
       "      <td>UNITED STATES OF AMERICA</td>\n",
       "      <td>29.683202,-95.132997</td>\n",
       "    </tr>\n",
       "    <tr>\n",
       "      <th>4</th>\n",
       "      <td>21802959</td>\n",
       "      <td>5949 BUFORD HWY 114</td>\n",
       "      <td>NORCROSS</td>\n",
       "      <td>GA</td>\n",
       "      <td>&lt;NA&gt;</td>\n",
       "      <td>5949 BUFORD HWY 114,NORCROSS,GA</td>\n",
       "      <td>UNITED STATES OF AMERICA</td>\n",
       "      <td>33.936057,-84.216062</td>\n",
       "    </tr>\n",
       "  </tbody>\n",
       "</table>\n",
       "</div>"
      ],
      "text/plain": [
       "         ID         ADDRESSLINE1       CITY STATE    ZIP  \\\n",
       "0  21681919         127 MOYER RD  BLAKESLEE    PA  18610   \n",
       "1  21683872   12107 S HALSTED ST    CHICAGO    IL  60628   \n",
       "2  21684089        801 W WISE ST      BOWIE    TX  76230   \n",
       "3  21684469  1118 BROOKHOLLOW DR  DEER PARK    TX  77536   \n",
       "4  21802959  5949 BUFORD HWY 114   NORCROSS    GA   <NA>   \n",
       "\n",
       "                                  ADDRESS                   COUNTRY  \\\n",
       "0         127 MOYER RD,BLAKESLEE,PA,18610  UNITED STATES OF AMERICA   \n",
       "1     12107 S HALSTED ST,CHICAGO,IL,60628  UNITED STATES OF AMERICA   \n",
       "2            801 W WISE ST,BOWIE,TX,76230  UNITED STATES OF AMERICA   \n",
       "3  1118 BROOKHOLLOW DR,DEER PARK,TX,77536  UNITED STATES OF AMERICA   \n",
       "4         5949 BUFORD HWY 114,NORCROSS,GA  UNITED STATES OF AMERICA   \n",
       "\n",
       "                GEOCODE  \n",
       "0  41.021119,-75.490743  \n",
       "1  41.673852,-87.641479  \n",
       "2  33.565004,-97.857744  \n",
       "3  29.683202,-95.132997  \n",
       "4  33.936057,-84.216062  "
      ]
     },
     "execution_count": 7,
     "metadata": {},
     "output_type": "execute_result"
    }
   ],
   "source": [
    "import concurrent.futures\n",
    "\n",
    "def geocoding_using_sdk(address, country):\n",
    "    return addressing.geocode(address, country)\n",
    "\n",
    "geocode_result = {}\n",
    "startTime = round(time.time() * 1000)\n",
    "with concurrent.futures.ThreadPoolExecutor(max_workers=8) as executor:\n",
    "    future_to_address = {executor.submit(geocoding_using_sdk, us_data['ADDRESS'][index], us_data['COUNTRY'][index]): \n",
    "                         us_data['ID'][index] for index in us_data.index}\n",
    "    for future in concurrent.futures.as_completed(future_to_address):\n",
    "        address_id = future_to_address[future]\n",
    "        try:\n",
    "            data = future.result()\n",
    "        except Exception as exc:\n",
    "            print('%r generated an exception: %s' % (address_id, exc))\n",
    "        else:\n",
    "            geocode_result[address_id] = data\n",
    "print(\"Time taken to geocode {0} addresses is {1} ms\".format(len(us_data), round(time.time() * 1000) - startTime))\n",
    "geocode_addresses = pd.Series(geocode_result).to_frame().reset_index()\n",
    "geocode_addresses.columns = ['ID', 'GEOCODE']\n",
    "geocode_addresses = geocode_addresses.convert_dtypes(infer_objects=True)\n",
    "us_data = us_data.merge(geocode_addresses, on='ID')\n",
    "us_data.head()"
   ]
  },
  {
   "cell_type": "markdown",
   "id": "0a0c3bc3",
   "metadata": {},
   "source": [
    "# K-Means Clustering To Visualize The Cluster of Countries using Geo-Coordinates"
   ]
  },
  {
   "cell_type": "code",
   "execution_count": 8,
   "id": "97f59b8e",
   "metadata": {},
   "outputs": [
    {
     "data": {
      "image/png": "[encoded data removed]",
      "text/plain": [
       "<Figure size 432x288 with 1 Axes>"
      ]
     },
     "metadata": {
      "needs_background": "light"
     },
     "output_type": "display_data"
    },
    {
     "data": {
      "text/plain": [
       "<matplotlib.colorbar.Colorbar at 0x2a42531f3d0>"
      ]
     },
     "execution_count": 8,
     "metadata": {},
     "output_type": "execute_result"
    },
    {
     "data": {
      "image/png": "[encoded data removed]",
      "text/plain": [
       "<Figure size 432x288 with 2 Axes>"
      ]
     },
     "metadata": {
      "needs_background": "light"
     },
     "output_type": "display_data"
    }
   ],
   "source": [
    "us_data[['LATITUDE', 'LONGITUDE']] = us_data['GEOCODE'].str.split(',', 1, expand=True)\n",
    "us_data.head()\n",
    "\n",
    "# K Means Clustering to visualize the clusters of the countries using Geo-coordinates.\n",
    "K_clusters = range(1,10)\n",
    "kmeans = [KMeans(n_clusters=i) for i in K_clusters]\n",
    "Y_axis = us_data[['LATITUDE']]\n",
    "X_axis = us_data[['LONGITUDE']]\n",
    "score = [kmeans[i].fit(Y_axis).score(Y_axis) for i in range(len(kmeans))]\n",
    "plt.plot(K_clusters, score)\n",
    "plt.xlabel('Number of Clusters')\n",
    "plt.ylabel('Score')\n",
    "plt.title('Elbow Curve')\n",
    "plt.show()\n",
    "\n",
    "kmeans = KMeans(n_clusters = 3, init ='k-means++')\n",
    "kmeans.fit(us_data[['ID', 'LATITUDE', 'LONGITUDE']]) # Compute k-means clustering.\n",
    "us_data['cluster_label'] = kmeans.fit_predict(us_data[['ID', 'LATITUDE', 'LONGITUDE']])\n",
    "centers = kmeans.cluster_centers_ # Coordinates of cluster centers.\n",
    "labels = kmeans.predict(us_data[['ID', 'LATITUDE', 'LONGITUDE']]) # Labels of each point\n",
    "us_data.head()\n",
    "\n",
    "sample = pd.DataFrame()\n",
    "sample = sample.append(us_data[us_data['cluster_label'] == 0][6000:7000], ignore_index=True)\n",
    "sample = sample.append(us_data[us_data['cluster_label'] == 1][6000:7000], ignore_index=True)\n",
    "sample = sample.append(us_data[us_data['cluster_label'] == 2][6000:7000], ignore_index=True)\n",
    "\n",
    "#Plot the clusters obtained using k means\n",
    "fig = plt.figure()\n",
    "ax = fig.add_subplot(111)\n",
    "scatter = ax.scatter(sample['LATITUDE'],sample['LONGITUDE'],c=sample['cluster_label'],s=50)\n",
    "ax.set_title('Clustering For Countries')\n",
    "ax.set_xlabel('Latitude')\n",
    "ax.set_ylabel('Longitude')\n",
    "ax.set_yticks([])\n",
    "ax.set_xticks([])\n",
    "plt.colorbar(scatter)"
   ]
  }
 ],
 "metadata": {
  "kernelspec": {
   "display_name": "Python 3 (ipykernel)",
   "language": "python",
   "name": "python3"
  },
  "language_info": {
   "codemirror_mode": {
    "name": "ipython",
    "version": 3
   },
   "file_extension": ".py",
   "mimetype": "text/x-python",
   "name": "python",
   "nbconvert_exporter": "python",
   "pygments_lexer": "ipython3",
   "version": "3.9.9"
  }
 },
 "nbformat": 4,
 "nbformat_minor": 5
}
